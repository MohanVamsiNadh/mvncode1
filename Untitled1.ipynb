{
 "cells": [
  {
   "cell_type": "markdown",
   "id": "bd1071c0",
   "metadata": {},
   "source": [
    "#headline1\n",
    "##headline2"
   ]
  },
  {
   "cell_type": "code",
   "execution_count": null,
   "id": "398992de",
   "metadata": {},
   "outputs": [],
   "source": [
    "# headline1\n",
    "# headline2"
   ]
  },
  {
   "cell_type": "code",
   "execution_count": null,
   "id": "9c634d05",
   "metadata": {},
   "outputs": [],
   "source": [
    "> 1.ordered list1<br>\n",
    ">>2.ordered list2<br>"
   ]
  },
  {
   "cell_type": "code",
   "execution_count": null,
   "id": "b9c2ca3a",
   "metadata": {},
   "outputs": [],
   "source": [
    "< img src=\"rose.jpeg\" alt=\"rose image\" >\n",
    "<a href = \"https:\\\\www.google.com/\">Google</a>"
   ]
  },
  {
   "cell_type": "markdown",
   "id": "77dd517e",
   "metadata": {},
   "source": [
    "*italic*<br>\n",
    "**bold**<br>\n",
    "*** italic & bold ***\n"
   ]
  },
  {
   "cell_type": "markdown",
   "id": "db8dc052",
   "metadata": {},
   "source": [
    "<h1 style=\"color:red;background.color= blue\">surya<h1>"
   ]
  },
  {
   "cell_type": "markdown",
   "id": "8bda1d83",
   "metadata": {},
   "source": [
    "<img src=\"lion.jpg\" alt=\"lion image\" >"
   ]
  },
  {
   "cell_type": "markdown",
   "id": "63c10b91",
   "metadata": {},
   "source": [
    "<img src=\"lion.jpg\" alt=\"lion image\">"
   ]
  },
  {
   "cell_type": "markdown",
   "id": "215226a2",
   "metadata": {},
   "source": [
    "<a href=\"https://wallpapercave.com/lion-hd-wallpapers\">Google</a>"
   ]
  },
  {
   "cell_type": "code",
   "execution_count": 23,
   "id": "c83e65d5",
   "metadata": {},
   "outputs": [
    {
     "name": "stdout",
     "output_type": "stream",
     "text": [
      "enter the user name surya\n",
      "enter the password123\n",
      "please check the username and password\n"
     ]
    }
   ],
   "source": [
    "u=\"surya\"\n",
    "p=\"surya123\"\n",
    "a=input(\"enter the user name \")\n",
    "if a in u :\n",
    "     d=input(\"enter the password\")\n",
    "     if p in d :\n",
    "         print(\"your login is succesfull\")\n",
    "     else :\n",
    "         print(\"please check the username and password\")\n"
   ]
  },
  {
   "cell_type": "code",
   "execution_count": 6,
   "id": "2384d902",
   "metadata": {},
   "outputs": [
    {
     "name": "stdout",
     "output_type": "stream",
     "text": [
      "[1, 2, 3, 4, 5, 6]\n"
     ]
    }
   ],
   "source": [
    "a =[1,2,3,]\n",
    "a.extend([4,5,6])\n",
    "print(a)"
   ]
  },
  {
   "cell_type": "code",
   "execution_count": null,
   "id": "58c15cc0",
   "metadata": {},
   "outputs": [],
   "source": []
  }
 ],
 "metadata": {
  "kernelspec": {
   "display_name": "Python 3",
   "language": "python",
   "name": "python3"
  },
  "language_info": {
   "codemirror_mode": {
    "name": "ipython",
    "version": 3
   },
   "file_extension": ".py",
   "mimetype": "text/x-python",
   "name": "python",
   "nbconvert_exporter": "python",
   "pygments_lexer": "ipython3",
   "version": "3.8.8"
  }
 },
 "nbformat": 4,
 "nbformat_minor": 5
}
